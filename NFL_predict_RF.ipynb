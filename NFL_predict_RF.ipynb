{
 "cells": [
  {
   "cell_type": "code",
   "execution_count": 1,
   "id": "a7fb3542",
   "metadata": {},
   "outputs": [],
   "source": [
    "# from https://www.youtube.com/watch?v=sOEjC5YOYnY&t=483s"
   ]
  },
  {
   "cell_type": "code",
   "execution_count": 1,
   "id": "d60dff60",
   "metadata": {},
   "outputs": [],
   "source": [
    "import numpy as np\n",
    "import pandas as pd\n"
   ]
  },
  {
   "cell_type": "code",
   "execution_count": 2,
   "id": "29ff12b6",
   "metadata": {},
   "outputs": [],
   "source": [
    "# This code is loading data from a CSV file named 'nfl21_23_df.csv',\n",
    "# which likely contains NFL data\n",
    "\n",
    "nfl_data = pd.read_csv('nfl21_23_df.csv')"
   ]
  },
  {
   "cell_type": "code",
   "execution_count": 4,
   "id": "5ac9ec2a",
   "metadata": {},
   "outputs": [],
   "source": [
    "\n",
    "#nfl_data = nfl_data.drop('Unnamed: 0', axis=1)"
   ]
  },
  {
   "cell_type": "code",
   "execution_count": 5,
   "id": "b6f09c91",
   "metadata": {},
   "outputs": [
    {
     "name": "stdout",
     "output_type": "stream",
     "text": [
      "(733, 59)\n"
     ]
    }
   ],
   "source": [
    "print(nfl_data.shape)"
   ]
  },
  {
   "cell_type": "code",
   "execution_count": 6,
   "id": "2659b644",
   "metadata": {
    "scrolled": true
   },
   "outputs": [
    {
     "data": {
      "text/plain": [
       "Week                         int64\n",
       "Tm_home                     object\n",
       "First Downs_home             int64\n",
       "Net Pass Yards_home          int64\n",
       "Total Yards_home             int64\n",
       "Turnovers_home               int64\n",
       "Time of Possession_home    float64\n",
       "QB_prssd_home                int64\n",
       "1Q_home                      int64\n",
       "2Q_home                      int64\n",
       "3Q_home                      int64\n",
       "4Q_home                      int64\n",
       "Final_home                   int64\n",
       "Year_home                    int64\n",
       "Tm_away                     object\n",
       "First Downs_away             int64\n",
       "Net Pass Yards_away          int64\n",
       "Total Yards_away             int64\n",
       "Turnovers_away               int64\n",
       "Time of Possession_away    float64\n",
       "QB_prssd_away                int64\n",
       "1Q_away                      int64\n",
       "2Q_away                      int64\n",
       "3Q_away                      int64\n",
       "4Q_away                      int64\n",
       "Final_away                   int64\n",
       "Year_away                    int64\n",
       "Rush Att_home                int64\n",
       "Rush Yds_home                int64\n",
       "Rush Tds_home                int64\n",
       "Pass Cmp_home                int64\n",
       "Pass Att_home                int64\n",
       "Pass Yds_home                int64\n",
       "Pass Tds_home                int64\n",
       "INT_home                     int64\n",
       "Sacks_home                   int64\n",
       "Sack Yrds_home               int64\n",
       "Penalties_home               int64\n",
       "Penalty Yards_home           int64\n",
       "Fumbles_home                 int64\n",
       "Fumbles Lost_home            int64\n",
       "Fourth Down Att_home         int64\n",
       "Third Down Att_home          int64\n",
       "Rush Att_away                int64\n",
       "Rush Yds_away                int64\n",
       "Rush Tds_away                int64\n",
       "Pass Cmp_away                int64\n",
       "Pass Att_away                int64\n",
       "Pass Yds_away                int64\n",
       "Pass Tds_away                int64\n",
       "INT_away                     int64\n",
       "Sacks_away                   int64\n",
       "Sack Yrds_away               int64\n",
       "Penalties_away               int64\n",
       "Penalty Yards_away           int64\n",
       "Fumbles_away                 int64\n",
       "Fumbles Lost_away            int64\n",
       "Fourth Down Att_away         int64\n",
       "Third Down Att_away          int64\n",
       "dtype: object"
      ]
     },
     "execution_count": 6,
     "metadata": {},
     "output_type": "execute_result"
    }
   ],
   "source": [
    "nfl_data.dtypes"
   ]
  },
  {
   "cell_type": "code",
   "execution_count": 7,
   "id": "f72c402f",
   "metadata": {},
   "outputs": [
    {
     "data": {
      "text/plain": [
       "Index(['Week', 'Tm_home', 'First Downs_home', 'Net Pass Yards_home',\n",
       "       'Total Yards_home', 'Turnovers_home', 'Time of Possession_home',\n",
       "       'QB_prssd_home', '1Q_home', '2Q_home', '3Q_home', '4Q_home',\n",
       "       'Final_home', 'Year_home', 'Tm_away', 'First Downs_away',\n",
       "       'Net Pass Yards_away', 'Total Yards_away', 'Turnovers_away',\n",
       "       'Time of Possession_away', 'QB_prssd_away', '1Q_away', '2Q_away',\n",
       "       '3Q_away', '4Q_away', 'Final_away', 'Year_away', 'Rush Att_home',\n",
       "       'Rush Yds_home', 'Rush Tds_home', 'Pass Cmp_home', 'Pass Att_home',\n",
       "       'Pass Yds_home', 'Pass Tds_home', 'INT_home', 'Sacks_home',\n",
       "       'Sack Yrds_home', 'Penalties_home', 'Penalty Yards_home',\n",
       "       'Fumbles_home', 'Fumbles Lost_home', 'Fourth Down Att_home',\n",
       "       'Third Down Att_home', 'Rush Att_away', 'Rush Yds_away',\n",
       "       'Rush Tds_away', 'Pass Cmp_away', 'Pass Att_away', 'Pass Yds_away',\n",
       "       'Pass Tds_away', 'INT_away', 'Sacks_away', 'Sack Yrds_away',\n",
       "       'Penalties_away', 'Penalty Yards_away', 'Fumbles_away',\n",
       "       'Fumbles Lost_away', 'Fourth Down Att_away', 'Third Down Att_away'],\n",
       "      dtype='object')"
      ]
     },
     "execution_count": 7,
     "metadata": {},
     "output_type": "execute_result"
    }
   ],
   "source": [
    "nfl_data.columns"
   ]
  },
  {
   "cell_type": "code",
   "execution_count": 8,
   "id": "060d506a",
   "metadata": {},
   "outputs": [],
   "source": [
    "#The code is used to replace all missing or NaN (Not a Number) values in the nfl_data \n",
    "\n",
    "nfl_data = nfl_data.fillna(0)"
   ]
  },
  {
   "cell_type": "code",
   "execution_count": 9,
   "id": "09e4389b",
   "metadata": {},
   "outputs": [],
   "source": [
    "# This code extracts the column named 'Tm_home' from the \n",
    "# DataFrame nfl_data and stores it in a new variable called tm_index\n",
    "\n",
    "tm_index = nfl_data['Tm_home']"
   ]
  },
  {
   "cell_type": "code",
   "execution_count": 11,
   "id": "5cf8d7d2",
   "metadata": {},
   "outputs": [],
   "source": [
    "rf_mdl_data = nfl_data[['Tm_home', 'First Downs_home', 'Net Pass Yards_home',\n",
    "       'Total Yards_home', 'Turnovers_home', 'Time of Possession_home',\n",
    "       'QB_prssd_home', '1Q_home', '2Q_home', '3Q_home', '4Q_home',\n",
    "       'Final_home', 'Year_home', 'Tm_away', 'First Downs_away',\n",
    "       'Net Pass Yards_away', 'Total Yards_away', 'Turnovers_away',\n",
    "       'Time of Possession_away', 'QB_prssd_away', '1Q_away', '2Q_away',\n",
    "       '3Q_away', '4Q_away', 'Final_away', 'Year_away', 'Rush Att_home',\n",
    "       'Rush Yds_home', 'Rush Tds_home', 'Pass Cmp_home', 'Pass Att_home',\n",
    "       'Pass Yds_home', 'Pass Tds_home', 'INT_home', 'Sacks_home',\n",
    "       'Sack Yrds_home', 'Penalties_home', 'Penalty Yards_home',\n",
    "       'Fumbles_home', 'Fumbles Lost_home', 'Fourth Down Att_home',\n",
    "       'Third Down Att_home', 'Rush Att_away', 'Rush Yds_away',\n",
    "       'Rush Tds_away', 'Pass Cmp_away', 'Pass Att_away', 'Pass Yds_away',\n",
    "       'Pass Tds_away', 'INT_away', 'Sacks_away', 'Sack Yrds_away',\n",
    "       'Penalties_away', 'Penalty Yards_away', 'Fumbles_away',\n",
    "       'Fumbles Lost_away', 'Fourth Down Att_away', 'Third Down Att_away']]"
   ]
  },
  {
   "cell_type": "code",
   "execution_count": 12,
   "id": "dbf65d4f",
   "metadata": {},
   "outputs": [],
   "source": [
    "season_stats = ['Net Pass Yards_home','Total Yards_home', 'Turnovers_home',\n",
    "       'QB_prssd_home', '1Q_home', '2Q_home', '3Q_home', '4Q_home',\n",
    "       'Final_home', 'Time of Possession_home', 'First Downs_away',\n",
    "       'Net Pass Yards_away', 'Total Yards_away', 'Turnovers_away',\n",
    "       'Time of Possession_away', 'QB_prssd_away', '1Q_away', '2Q_away',\n",
    "       '3Q_away', '4Q_away', 'Final_away', 'Rush Att_home',\n",
    "       'Rush Yds_home', 'Rush Tds_home', 'Pass Cmp_home', 'Pass Att_home',\n",
    "       'Pass Yds_home', 'Pass Tds_home', 'INT_home', 'Sacks_home',\n",
    "       'Sack Yrds_home', 'Penalties_home', 'Penalty Yards_home',\n",
    "       'Fumbles_home', 'Fumbles Lost_home', 'Fourth Down Att_home',\n",
    "       'Third Down Att_home', 'Rush Att_away', 'Rush Yds_away',\n",
    "       'Rush Tds_away', 'Pass Cmp_away', 'Pass Att_away', 'Pass Yds_away',\n",
    "       'Pass Tds_away', 'INT_away', 'Sacks_away', 'Sack Yrds_away',\n",
    "       'Penalties_away', 'Penalty Yards_away', 'Fumbles_away',\n",
    "       'Fumbles Lost_away', 'Fourth Down Att_away', 'Third Down Att_away']"
   ]
  },
  {
   "cell_type": "code",
   "execution_count": 13,
   "id": "ff371c59",
   "metadata": {},
   "outputs": [
    {
     "name": "stderr",
     "output_type": "stream",
     "text": [
      "/var/folders/c7/8thx9j6d0cs423_q9lf2mffr0000gn/T/ipykernel_20136/1515454273.py:1: SettingWithCopyWarning: \n",
      "A value is trying to be set on a copy of a slice from a DataFrame.\n",
      "Try using .loc[row_indexer,col_indexer] = value instead\n",
      "\n",
      "See the caveats in the documentation: https://pandas.pydata.org/pandas-docs/stable/user_guide/indexing.html#returning-a-view-versus-a-copy\n",
      "  rf_mdl_data[season_stats] = rf_mdl_data[season_stats] * 1\n"
     ]
    }
   ],
   "source": [
    "#  This code is performing a mathematical operation on a \n",
    "# specific subset of columns in the DataFrame rf_mdl_data.\n",
    "\n",
    "rf_mdl_data[season_stats] = rf_mdl_data[season_stats] * 1"
   ]
  },
  {
   "cell_type": "code",
   "execution_count": 14,
   "id": "b1141366",
   "metadata": {},
   "outputs": [],
   "source": [
    "# This code converts categorical variables within the DataFrame rf_mdl_data into \n",
    "# dummy/indicator variables using the get_dummies method provided by pandas,\n",
    "\n",
    "rf_mdl_data = pd.get_dummies(rf_mdl_data)"
   ]
  },
  {
   "cell_type": "code",
   "execution_count": 15,
   "id": "81f5734c",
   "metadata": {
    "scrolled": true
   },
   "outputs": [
    {
     "data": {
      "text/html": [
       "<div>\n",
       "<style scoped>\n",
       "    .dataframe tbody tr th:only-of-type {\n",
       "        vertical-align: middle;\n",
       "    }\n",
       "\n",
       "    .dataframe tbody tr th {\n",
       "        vertical-align: top;\n",
       "    }\n",
       "\n",
       "    .dataframe thead th {\n",
       "        text-align: right;\n",
       "    }\n",
       "</style>\n",
       "<table border=\"1\" class=\"dataframe\">\n",
       "  <thead>\n",
       "    <tr style=\"text-align: right;\">\n",
       "      <th></th>\n",
       "      <th>First Downs_home</th>\n",
       "      <th>Net Pass Yards_home</th>\n",
       "      <th>Total Yards_home</th>\n",
       "      <th>Turnovers_home</th>\n",
       "      <th>Time of Possession_home</th>\n",
       "      <th>QB_prssd_home</th>\n",
       "      <th>1Q_home</th>\n",
       "      <th>2Q_home</th>\n",
       "      <th>3Q_home</th>\n",
       "      <th>4Q_home</th>\n",
       "      <th>...</th>\n",
       "      <th>Tm_away_NWE</th>\n",
       "      <th>Tm_away_NYG</th>\n",
       "      <th>Tm_away_NYJ</th>\n",
       "      <th>Tm_away_PHI</th>\n",
       "      <th>Tm_away_PIT</th>\n",
       "      <th>Tm_away_SEA</th>\n",
       "      <th>Tm_away_SFO</th>\n",
       "      <th>Tm_away_TAM</th>\n",
       "      <th>Tm_away_TEN</th>\n",
       "      <th>Tm_away_WAS</th>\n",
       "    </tr>\n",
       "  </thead>\n",
       "  <tbody>\n",
       "    <tr>\n",
       "      <th>0</th>\n",
       "      <td>26</td>\n",
       "      <td>258</td>\n",
       "      <td>419</td>\n",
       "      <td>2</td>\n",
       "      <td>36.55</td>\n",
       "      <td>0</td>\n",
       "      <td>0</td>\n",
       "      <td>14</td>\n",
       "      <td>0</td>\n",
       "      <td>7</td>\n",
       "      <td>...</td>\n",
       "      <td>False</td>\n",
       "      <td>False</td>\n",
       "      <td>False</td>\n",
       "      <td>False</td>\n",
       "      <td>False</td>\n",
       "      <td>True</td>\n",
       "      <td>False</td>\n",
       "      <td>False</td>\n",
       "      <td>False</td>\n",
       "      <td>False</td>\n",
       "    </tr>\n",
       "    <tr>\n",
       "      <th>1</th>\n",
       "      <td>22</td>\n",
       "      <td>230</td>\n",
       "      <td>387</td>\n",
       "      <td>1</td>\n",
       "      <td>36.59</td>\n",
       "      <td>2</td>\n",
       "      <td>3</td>\n",
       "      <td>7</td>\n",
       "      <td>3</td>\n",
       "      <td>9</td>\n",
       "      <td>...</td>\n",
       "      <td>False</td>\n",
       "      <td>False</td>\n",
       "      <td>False</td>\n",
       "      <td>False</td>\n",
       "      <td>False</td>\n",
       "      <td>False</td>\n",
       "      <td>False</td>\n",
       "      <td>False</td>\n",
       "      <td>False</td>\n",
       "      <td>False</td>\n",
       "    </tr>\n",
       "    <tr>\n",
       "      <th>2</th>\n",
       "      <td>22</td>\n",
       "      <td>170</td>\n",
       "      <td>325</td>\n",
       "      <td>1</td>\n",
       "      <td>29.59</td>\n",
       "      <td>9</td>\n",
       "      <td>3</td>\n",
       "      <td>7</td>\n",
       "      <td>3</td>\n",
       "      <td>6</td>\n",
       "      <td>...</td>\n",
       "      <td>False</td>\n",
       "      <td>False</td>\n",
       "      <td>False</td>\n",
       "      <td>False</td>\n",
       "      <td>False</td>\n",
       "      <td>False</td>\n",
       "      <td>False</td>\n",
       "      <td>False</td>\n",
       "      <td>False</td>\n",
       "      <td>False</td>\n",
       "    </tr>\n",
       "    <tr>\n",
       "      <th>3</th>\n",
       "      <td>19</td>\n",
       "      <td>177</td>\n",
       "      <td>253</td>\n",
       "      <td>1</td>\n",
       "      <td>26.21</td>\n",
       "      <td>8</td>\n",
       "      <td>7</td>\n",
       "      <td>10</td>\n",
       "      <td>0</td>\n",
       "      <td>0</td>\n",
       "      <td>...</td>\n",
       "      <td>False</td>\n",
       "      <td>False</td>\n",
       "      <td>False</td>\n",
       "      <td>False</td>\n",
       "      <td>False</td>\n",
       "      <td>False</td>\n",
       "      <td>False</td>\n",
       "      <td>False</td>\n",
       "      <td>False</td>\n",
       "      <td>False</td>\n",
       "    </tr>\n",
       "    <tr>\n",
       "      <th>4</th>\n",
       "      <td>19</td>\n",
       "      <td>131</td>\n",
       "      <td>333</td>\n",
       "      <td>1</td>\n",
       "      <td>24.16</td>\n",
       "      <td>6</td>\n",
       "      <td>10</td>\n",
       "      <td>0</td>\n",
       "      <td>0</td>\n",
       "      <td>13</td>\n",
       "      <td>...</td>\n",
       "      <td>False</td>\n",
       "      <td>False</td>\n",
       "      <td>False</td>\n",
       "      <td>False</td>\n",
       "      <td>False</td>\n",
       "      <td>False</td>\n",
       "      <td>False</td>\n",
       "      <td>False</td>\n",
       "      <td>False</td>\n",
       "      <td>False</td>\n",
       "    </tr>\n",
       "  </tbody>\n",
       "</table>\n",
       "<p>5 rows × 120 columns</p>\n",
       "</div>"
      ],
      "text/plain": [
       "   First Downs_home  Net Pass Yards_home  Total Yards_home  Turnovers_home  \\\n",
       "0                26                  258               419               2   \n",
       "1                22                  230               387               1   \n",
       "2                22                  170               325               1   \n",
       "3                19                  177               253               1   \n",
       "4                19                  131               333               1   \n",
       "\n",
       "   Time of Possession_home  QB_prssd_home  1Q_home  2Q_home  3Q_home  4Q_home  \\\n",
       "0                    36.55              0        0       14        0        7   \n",
       "1                    36.59              2        3        7        3        9   \n",
       "2                    29.59              9        3        7        3        6   \n",
       "3                    26.21              8        7       10        0        0   \n",
       "4                    24.16              6       10        0        0       13   \n",
       "\n",
       "   ...  Tm_away_NWE  Tm_away_NYG  Tm_away_NYJ  Tm_away_PHI  Tm_away_PIT  \\\n",
       "0  ...        False        False        False        False        False   \n",
       "1  ...        False        False        False        False        False   \n",
       "2  ...        False        False        False        False        False   \n",
       "3  ...        False        False        False        False        False   \n",
       "4  ...        False        False        False        False        False   \n",
       "\n",
       "   Tm_away_SEA  Tm_away_SFO  Tm_away_TAM  Tm_away_TEN  Tm_away_WAS  \n",
       "0         True        False        False        False        False  \n",
       "1        False        False        False        False        False  \n",
       "2        False        False        False        False        False  \n",
       "3        False        False        False        False        False  \n",
       "4        False        False        False        False        False  \n",
       "\n",
       "[5 rows x 120 columns]"
      ]
     },
     "execution_count": 15,
     "metadata": {},
     "output_type": "execute_result"
    }
   ],
   "source": [
    "rf_mdl_data.head(5)"
   ]
  },
  {
   "cell_type": "code",
   "execution_count": 16,
   "id": "b0f9aa7b",
   "metadata": {},
   "outputs": [
    {
     "data": {
      "text/plain": [
       "Index(['First Downs_home', 'Net Pass Yards_home', 'Total Yards_home',\n",
       "       'Turnovers_home', 'Time of Possession_home', 'QB_prssd_home', '1Q_home',\n",
       "       '2Q_home', '3Q_home', '4Q_home',\n",
       "       ...\n",
       "       'Tm_away_NWE', 'Tm_away_NYG', 'Tm_away_NYJ', 'Tm_away_PHI',\n",
       "       'Tm_away_PIT', 'Tm_away_SEA', 'Tm_away_SFO', 'Tm_away_TAM',\n",
       "       'Tm_away_TEN', 'Tm_away_WAS'],\n",
       "      dtype='object', length=120)"
      ]
     },
     "execution_count": 16,
     "metadata": {},
     "output_type": "execute_result"
    }
   ],
   "source": [
    "rf_mdl_data.columns"
   ]
  },
  {
   "cell_type": "code",
   "execution_count": 17,
   "id": "ef12aa1e",
   "metadata": {},
   "outputs": [],
   "source": [
    "from sklearn.model_selection import train_test_split\n",
    "from sklearn.ensemble import RandomForestRegressor\n",
    "from sklearn.metrics import r2_score, mean_squared_error, mean_absolute_error\n"
   ]
  },
  {
   "cell_type": "code",
   "execution_count": 18,
   "id": "80acbac2",
   "metadata": {},
   "outputs": [],
   "source": [
    "X = rf_mdl_data.drop('Final_home', axis=1).values\n",
    "y = rf_mdl_data['Final_home'].values.reshape(-1, 1)\n",
    "X_train, X_test, y_train, y_test = train_test_split(X, y, test_size=0.10)\n"
   ]
  },
  {
   "cell_type": "code",
   "execution_count": 19,
   "id": "7663f96c",
   "metadata": {},
   "outputs": [
    {
     "name": "stderr",
     "output_type": "stream",
     "text": [
      "/Users/roymosley/Documents/anaconda3/lib/python3.11/site-packages/sklearn/base.py:1151: DataConversionWarning: A column-vector y was passed when a 1d array was expected. Please change the shape of y to (n_samples,), for example using ravel().\n",
      "  return fit_method(estimator, *args, **kwargs)\n"
     ]
    },
    {
     "data": {
      "text/html": [
       "<style>#sk-container-id-1 {color: black;}#sk-container-id-1 pre{padding: 0;}#sk-container-id-1 div.sk-toggleable {background-color: white;}#sk-container-id-1 label.sk-toggleable__label {cursor: pointer;display: block;width: 100%;margin-bottom: 0;padding: 0.3em;box-sizing: border-box;text-align: center;}#sk-container-id-1 label.sk-toggleable__label-arrow:before {content: \"▸\";float: left;margin-right: 0.25em;color: #696969;}#sk-container-id-1 label.sk-toggleable__label-arrow:hover:before {color: black;}#sk-container-id-1 div.sk-estimator:hover label.sk-toggleable__label-arrow:before {color: black;}#sk-container-id-1 div.sk-toggleable__content {max-height: 0;max-width: 0;overflow: hidden;text-align: left;background-color: #f0f8ff;}#sk-container-id-1 div.sk-toggleable__content pre {margin: 0.2em;color: black;border-radius: 0.25em;background-color: #f0f8ff;}#sk-container-id-1 input.sk-toggleable__control:checked~div.sk-toggleable__content {max-height: 200px;max-width: 100%;overflow: auto;}#sk-container-id-1 input.sk-toggleable__control:checked~label.sk-toggleable__label-arrow:before {content: \"▾\";}#sk-container-id-1 div.sk-estimator input.sk-toggleable__control:checked~label.sk-toggleable__label {background-color: #d4ebff;}#sk-container-id-1 div.sk-label input.sk-toggleable__control:checked~label.sk-toggleable__label {background-color: #d4ebff;}#sk-container-id-1 input.sk-hidden--visually {border: 0;clip: rect(1px 1px 1px 1px);clip: rect(1px, 1px, 1px, 1px);height: 1px;margin: -1px;overflow: hidden;padding: 0;position: absolute;width: 1px;}#sk-container-id-1 div.sk-estimator {font-family: monospace;background-color: #f0f8ff;border: 1px dotted black;border-radius: 0.25em;box-sizing: border-box;margin-bottom: 0.5em;}#sk-container-id-1 div.sk-estimator:hover {background-color: #d4ebff;}#sk-container-id-1 div.sk-parallel-item::after {content: \"\";width: 100%;border-bottom: 1px solid gray;flex-grow: 1;}#sk-container-id-1 div.sk-label:hover label.sk-toggleable__label {background-color: #d4ebff;}#sk-container-id-1 div.sk-serial::before {content: \"\";position: absolute;border-left: 1px solid gray;box-sizing: border-box;top: 0;bottom: 0;left: 50%;z-index: 0;}#sk-container-id-1 div.sk-serial {display: flex;flex-direction: column;align-items: center;background-color: white;padding-right: 0.2em;padding-left: 0.2em;position: relative;}#sk-container-id-1 div.sk-item {position: relative;z-index: 1;}#sk-container-id-1 div.sk-parallel {display: flex;align-items: stretch;justify-content: center;background-color: white;position: relative;}#sk-container-id-1 div.sk-item::before, #sk-container-id-1 div.sk-parallel-item::before {content: \"\";position: absolute;border-left: 1px solid gray;box-sizing: border-box;top: 0;bottom: 0;left: 50%;z-index: -1;}#sk-container-id-1 div.sk-parallel-item {display: flex;flex-direction: column;z-index: 1;position: relative;background-color: white;}#sk-container-id-1 div.sk-parallel-item:first-child::after {align-self: flex-end;width: 50%;}#sk-container-id-1 div.sk-parallel-item:last-child::after {align-self: flex-start;width: 50%;}#sk-container-id-1 div.sk-parallel-item:only-child::after {width: 0;}#sk-container-id-1 div.sk-dashed-wrapped {border: 1px dashed gray;margin: 0 0.4em 0.5em 0.4em;box-sizing: border-box;padding-bottom: 0.4em;background-color: white;}#sk-container-id-1 div.sk-label label {font-family: monospace;font-weight: bold;display: inline-block;line-height: 1.2em;}#sk-container-id-1 div.sk-label-container {text-align: center;}#sk-container-id-1 div.sk-container {/* jupyter's `normalize.less` sets `[hidden] { display: none; }` but bootstrap.min.css set `[hidden] { display: none !important; }` so we also need the `!important` here to be able to override the default hidden behavior on the sphinx rendered scikit-learn.org. See: https://github.com/scikit-learn/scikit-learn/issues/21755 */display: inline-block !important;position: relative;}#sk-container-id-1 div.sk-text-repr-fallback {display: none;}</style><div id=\"sk-container-id-1\" class=\"sk-top-container\"><div class=\"sk-text-repr-fallback\"><pre>RandomForestRegressor(n_estimators=2000, random_state=20)</pre><b>In a Jupyter environment, please rerun this cell to show the HTML representation or trust the notebook. <br />On GitHub, the HTML representation is unable to render, please try loading this page with nbviewer.org.</b></div><div class=\"sk-container\" hidden><div class=\"sk-item\"><div class=\"sk-estimator sk-toggleable\"><input class=\"sk-toggleable__control sk-hidden--visually\" id=\"sk-estimator-id-1\" type=\"checkbox\" checked><label for=\"sk-estimator-id-1\" class=\"sk-toggleable__label sk-toggleable__label-arrow\">RandomForestRegressor</label><div class=\"sk-toggleable__content\"><pre>RandomForestRegressor(n_estimators=2000, random_state=20)</pre></div></div></div></div></div>"
      ],
      "text/plain": [
       "RandomForestRegressor(n_estimators=2000, random_state=20)"
      ]
     },
     "execution_count": 19,
     "metadata": {},
     "output_type": "execute_result"
    }
   ],
   "source": [
    "RF_ = RandomForestRegressor(n_estimators = 2000, random_state = 20)\n",
    "RF_.fit(X_train, y_train)\n"
   ]
  },
  {
   "cell_type": "code",
   "execution_count": 20,
   "id": "41e6993d",
   "metadata": {},
   "outputs": [],
   "source": [
    "y_pred = RF_.predict(X_test)"
   ]
  },
  {
   "cell_type": "code",
   "execution_count": 21,
   "id": "8db6da4b",
   "metadata": {},
   "outputs": [
    {
     "name": "stdout",
     "output_type": "stream",
     "text": [
      "2.7938378378378372\n"
     ]
    }
   ],
   "source": [
    "print(mean_absolute_error(y_test, y_pred))"
   ]
  },
  {
   "cell_type": "code",
   "execution_count": 22,
   "id": "fb0217df",
   "metadata": {},
   "outputs": [],
   "source": [
    "pd.options.display.max_rows = None"
   ]
  },
  {
   "cell_type": "code",
   "execution_count": 23,
   "id": "e20d92d2",
   "metadata": {},
   "outputs": [],
   "source": [
    "importance = RF_.feature_importances_"
   ]
  },
  {
   "cell_type": "code",
   "execution_count": 24,
   "id": "6124518e",
   "metadata": {},
   "outputs": [],
   "source": [
    "feature_names = rf_mdl_data.drop('Final_home', axis=1).columns"
   ]
  },
  {
   "cell_type": "code",
   "execution_count": 25,
   "id": "7f568921",
   "metadata": {},
   "outputs": [],
   "source": [
    "d = {'Var_Name': feature_names, 'Imp': importance}\n",
    "df = pd.DataFrame(data=d)\n",
    "df = df.sort_values(by = ['Imp'], ascending = False).reset_index(drop = True)\n"
   ]
  },
  {
   "cell_type": "code",
   "execution_count": 26,
   "id": "78e21eee",
   "metadata": {},
   "outputs": [],
   "source": [
    "pd.options.display.max_columns = None"
   ]
  },
  {
   "cell_type": "code",
   "execution_count": 27,
   "id": "efecd2b3",
   "metadata": {},
   "outputs": [],
   "source": [
    "def Score_Predictor(home_team, away_team):\n",
    "    team1 = home_team\n",
    "    team2 = away_team\n",
    "    \n",
    "    team1_data = rf_mdl_data[nfl_data['Tm_home'] == team1].drop('Final_home', axis=1).reset_index(drop = True)\n",
    "    team2_data = rf_mdl_data[nfl_data['Tm_home'] == team2].drop('Final_home', axis=1).reset_index(drop = True)\n",
    "    \n",
    "    week_slice = slice(0,17)\n",
    "    \n",
    "    #1\n",
    "    team1_test = pd.DataFrame(team1_data[week_slice].mean(axis = 0)).T\n",
    "    team1_test\n",
    "    opp_columns = team1_test.filter(like='Tm_away').columns\n",
    "    \n",
    "    team1_test[opp_columns] = 0\n",
    "    team1_test['Tm_away_' + team2] = 1\n",
    "    team1_test['Third Down Att_home'] = 1\n",
    "    \n",
    "    #2\n",
    "    team2_test = pd.DataFrame(team2_data[week_slice].mean(axis = 0)).T\n",
    "    opp_columns = team2_test.filter(like='Tm_away').columns\n",
    "\n",
    "    team1_test[opp_columns] = 0\n",
    "    team1_test['Tm_away_' + team2] = 1\n",
    "    team1_test['Third Down Att_home'] = 1\n",
    "    \n",
    "    team1_test[['Rush Att_home', 'Rush Yds_home',\n",
    "       'Rush Tds_home', 'Pass Cmp_home', 'Pass Att_home', 'Pass Yds_home',\n",
    "       'Pass Tds_home', 'INT_home', 'Sacks_home', 'Sack Yrds_home',\n",
    "       'Penalties_home', 'Penalty Yards_home', 'Fumbles_home',\n",
    "       'Fumbles Lost_home', 'Fourth Down Att_home', 'Third Down Att_home',\n",
    "       'First Downs_home', 'Net Pass Yards_home', 'Total Yards_home',\n",
    "       'Turnovers_home', 'Time of Possession_home', 'QB_prssd_home', \n",
    "       '1Q_home', '2Q_home', '3Q_home', '4Q_home']] = team2_test[['Rush Att_away',\n",
    "       'Rush Yds_away', 'Rush Tds_away', 'Pass Cmp_away', 'Pass Att_away', 'Pass Yds_away',\n",
    "       'Pass Tds_away', 'INT_away', 'Sacks_away', 'Sack Yrds_away',\n",
    "       'Penalties_away', 'Penalty Yards_away', 'Fumbles_away',\n",
    "       'Fumbles Lost_away', 'Fourth Down Att_away', 'Third Down Att_away',\n",
    "       'First Downs_away', 'Net Pass Yards_away', 'Total Yards_away',\n",
    "       'Turnovers_away', 'Time of Possession_away', 'QB_prssd_away', '1Q_away', '2Q_away',\n",
    "       '3Q_away', '4Q_away']]\n",
    "    team2_test[['Rush Att_away', 'Rush Yds_away',\n",
    "       'Rush Tds_away', 'Pass Cmp_away', 'Pass Att_away', 'Pass Yds_away',\n",
    "       'Pass Tds_away', 'INT_away', 'Sacks_away', 'Sack Yrds_away',\n",
    "       'Penalties_away', 'Penalty Yards_away', 'Fumbles_away',\n",
    "       'Fumbles Lost_away', 'Fourth Down Att_away', 'Third Down Att_away',\n",
    "       'First Downs_away', 'Net Pass Yards_away', 'Total Yards_away',\n",
    "       'Turnovers_away', 'Time of Possession_away', 'QB_prssd_away', '1Q_away', '2Q_away',\n",
    "       '3Q_away', '4Q_away']] = team1_test[['Rush Att_home', 'Rush Yds_home',\n",
    "       'Rush Tds_home', 'Pass Cmp_home', 'Pass Att_home', 'Pass Yds_home',\n",
    "       'Pass Tds_home', 'INT_home', 'Sacks_home', 'Sack Yrds_home',\n",
    "       'Penalties_home', 'Penalty Yards_home', 'Fumbles_home',\n",
    "       'Fumbles Lost_home', 'Fourth Down Att_home', 'Third Down Att_home',\n",
    "       'First Downs_home', 'Net Pass Yards_home', 'Total Yards_home',\n",
    "       'Turnovers_home', 'Time of Possession_home', 'QB_prssd_home', \n",
    "       '1Q_home', '2Q_home', '3Q_home', '4Q_home']]\n",
    "    \n",
    "    X_Season_test = pd.concat([team1_test, team2_test])\n",
    "    \n",
    "    \n",
    "    scores = RF_.predict(X_Season_test)\n",
    "    print(team1, 'will score', round(scores[0], 0))\n",
    "    print(team2, 'will score', round(scores[1], 0))\n",
    "    \n",
    "    if scores[0] > scores[1]:\n",
    "        winner = team1\n",
    "    else:\n",
    "        winner = team2\n",
    "    \n",
    "    print(winner, 'are the WINNERS!')\n",
    "    \n",
    "    return scores, winner\n",
    "    \n",
    "    \n",
    "    \n",
    "    "
   ]
  },
  {
   "cell_type": "code",
   "execution_count": 32,
   "id": "419792b0",
   "metadata": {},
   "outputs": [
    {
     "name": "stdout",
     "output_type": "stream",
     "text": [
      "PHI will score 20.0\n",
      "DAL will score 28.0\n",
      "DAL are the WINNERS!\n"
     ]
    },
    {
     "name": "stderr",
     "output_type": "stream",
     "text": [
      "/Users/roymosley/Documents/anaconda3/lib/python3.11/site-packages/sklearn/base.py:457: UserWarning: X has feature names, but RandomForestRegressor was fitted without feature names\n",
      "  warnings.warn(\n"
     ]
    }
   ],
   "source": [
    "scores, winner = Score_Predictor('PHI', 'DAL')\n",
    "\n"
   ]
  },
  {
   "cell_type": "code",
   "execution_count": null,
   "id": "56ef6d45",
   "metadata": {},
   "outputs": [],
   "source": []
  }
 ],
 "metadata": {
  "kernelspec": {
   "display_name": "Python 3 (ipykernel)",
   "language": "python",
   "name": "python3"
  },
  "language_info": {
   "codemirror_mode": {
    "name": "ipython",
    "version": 3
   },
   "file_extension": ".py",
   "mimetype": "text/x-python",
   "name": "python",
   "nbconvert_exporter": "python",
   "pygments_lexer": "ipython3",
   "version": "3.11.5"
  }
 },
 "nbformat": 4,
 "nbformat_minor": 5
}
